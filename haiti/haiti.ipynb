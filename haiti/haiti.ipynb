{
 "cells": [
  {
   "cell_type": "markdown",
   "id": "df5d6bc1-23bd-440b-adf7-ea49d3628ad8",
   "metadata": {},
   "source": [
    "# Haiti Cholera Trends"
   ]
  },
  {
   "cell_type": "code",
   "execution_count": 2,
   "id": "db8be5fa-bd7b-4bcc-aaeb-28f8be14e34c",
   "metadata": {},
   "outputs": [],
   "source": [
    "\n",
    "import os\n",
    "#os.environ['XLA_PYTHON_CLIENT_PREALLOCATE']='false'\n",
    "#os.environ['XLA_FLAGS']='--xla_gpu_deterministic_ops=true --xla_gpu_autotune_level=0'\n",
    "#os.environ['TF_DETERMINISTIC_OPS']='1'\n",
    "\n",
    "import jax\n",
    "import itertools\n",
    "import numpy as onp\n",
    "import ptitprince as pt\n",
    "\n",
    "import jax.numpy as np\n",
    "import ipywidgets as widgets\n",
    "import pandas as pd\n",
    "\n",
    "from jax.numpy.linalg import inv, pinv\n",
    "from jax.scipy.optimize import minimize\n",
    "from scipy.linalg import solve_discrete_are as dare\n",
    "from jax import jit, grad\n",
    "from IPython import display\n",
    "from toolz.dicttoolz import valmap, itemmap\n",
    "from itertools import chain\n",
    "from functools import partial\n",
    "\n",
    "from tqdm.notebook import tqdm\n",
    "from tensorflow_probability.substrates import jax as tfp\n",
    "tfd = tfp.distributions\n",
    "tfb = tfp.bijectors\n",
    "tfpk = tfp.math.psd_kernels\n",
    "\n",
    "# from pomps import *\n",
    "# from resampling import *\n",
    "# from filtering import *\n",
    "# from optim import *\n",
    "\n",
    "import pypomp\n",
    "\n",
    "import matplotlib.pyplot as plt\n",
    "plt.style.use('../matplotlibrc')\n",
    "onp.set_printoptions(suppress=True)"
   ]
  },
  {
   "cell_type": "code",
   "execution_count": null,
   "id": "99dfdf96-2a74-41a3-9a2d-eb7bfc329572",
   "metadata": {},
   "outputs": [],
   "source": [
    "def reulermultinom(N, rates, dt):\n",
    "    "
   ]
  },
  {
   "cell_type": "code",
   "execution_count": 4,
   "id": "39a8e658-1458-4b8c-bc89-a344193c16bb",
   "metadata": {},
   "outputs": [
    {
     "ename": "AttributeError",
     "evalue": "module 'pypomp' has no attribute 'pfilter'",
     "output_type": "error",
     "traceback": [
      "\u001b[0;31m---------------------------------------------------------------------------\u001b[0m",
      "\u001b[0;31mAttributeError\u001b[0m                            Traceback (most recent call last)",
      "Cell \u001b[0;32mIn[4], line 1\u001b[0m\n\u001b[0;32m----> 1\u001b[0m \u001b[43mpypomp\u001b[49m\u001b[38;5;241;43m.\u001b[39;49m\u001b[43mpfilter\u001b[49m\n",
      "\u001b[0;31mAttributeError\u001b[0m: module 'pypomp' has no attribute 'pfilter'"
     ]
    }
   ],
   "source": [
    "def reulermultinom(self, N: int, rates, dt: float, save=False):\n",
    "    sumrates = torch.sum(rates)\n",
    "    p0 = torch.exp(-sumrates * dt)\n",
    "    #use the normal approximation\n",
    "    m = torch.distributions.Multinomial(total_count=N, probs=torch.cat([p0.reshape(1), (1-p0)*rates/sumrates]))\n",
    "    samp = m.sample()\n",
    "    if save:\n",
    "        self.s_m = m\n",
    "        self.s_num = samp\n",
    "    return samp"
   ]
  }
 ],
 "metadata": {
  "kernelspec": {
   "display_name": "jax",
   "language": "python",
   "name": "jax"
  },
  "language_info": {
   "codemirror_mode": {
    "name": "ipython",
    "version": 3
   },
   "file_extension": ".py",
   "mimetype": "text/x-python",
   "name": "python",
   "nbconvert_exporter": "python",
   "pygments_lexer": "ipython3",
   "version": "3.10.10"
  }
 },
 "nbformat": 4,
 "nbformat_minor": 5
}
