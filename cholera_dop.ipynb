{
 "cells": [
  {
   "cell_type": "markdown",
   "id": "85c754ea-f99d-4527-a86a-e59508f5528f",
   "metadata": {},
   "source": [
    "# Cholera"
   ]
  },
  {
   "cell_type": "code",
   "execution_count": 1,
   "id": "67a83e6b-dafd-4fe1-b43c-bee093d72bd3",
   "metadata": {},
   "outputs": [
    {
     "name": "stderr",
     "output_type": "stream",
     "text": [
      "2024-05-25 15:14:27.176637: W tensorflow/compiler/tf2tensorrt/utils/py_utils.cc:38] TF-TRT Warning: Could not find TensorRT\n"
     ]
    }
   ],
   "source": [
    "\n",
    "import os\n",
    "#os.environ['XLA_PYTHON_CLIENT_PREALLOCATE']='false'\n",
    "\n",
    "import jax\n",
    "import itertools\n",
    "import numpy as onp\n",
    "\n",
    "import jax.numpy as np\n",
    "import ipywidgets as widgets\n",
    "import pandas as pd\n",
    "\n",
    "from jax.numpy.linalg import inv, pinv\n",
    "from jax.scipy.optimize import minimize\n",
    "from scipy.linalg import solve_discrete_are as dare\n",
    "from jax import jit, grad\n",
    "from IPython import display\n",
    "from toolz.dicttoolz import valmap, itemmap\n",
    "from itertools import chain\n",
    "from functools import partial\n",
    "\n",
    "from tqdm.notebook import tqdm\n",
    "from tensorflow_probability.substrates import jax as tfp\n",
    "tfpk = tfp.math.psd_kernels\n",
    "import tensorflow_probability.substrates.jax.distributions as tfd\n",
    "import tensorflow_probability.substrates.jax.bijectors as tfb\n",
    "\n",
    "from pomps import *\n",
    "from resampling import *\n",
    "from filtering import *\n",
    "from optim import *\n",
    "\n",
    "\n",
    "\n",
    "import matplotlib.pyplot as plt\n",
    "plt.style.use('matplotlibrc')\n",
    "onp.set_printoptions(suppress=True)"
   ]
  },
  {
   "cell_type": "code",
   "execution_count": 2,
   "id": "0f7a7b8f-06b4-49cb-969e-b8de65977132",
   "metadata": {},
   "outputs": [
    {
     "name": "stderr",
     "output_type": "stream",
     "text": [
      "2024-05-25 15:14:28.625401: W external/xla/xla/service/gpu/nvptx_compiler.cc:742] The NVIDIA driver's CUDA version is 12.1 which is older than the ptxas CUDA version (12.4.99). Because the driver is older than the ptxas version, XLA is disabling parallel compilation, which may slow down compilation. You should update your NVIDIA driver or use the NVIDIA-provided CUDA forward compatibility packages.\n"
     ]
    }
   ],
   "source": [
    "dataset = pd.read_csv('data/dacca/dacca.csv', index_col=0).reset_index(drop=True)\n",
    "ys = np.array(dataset['cholera.deaths'].values)\n",
    "dataset = pd.read_csv('data/dacca/covars.csv', index_col=0).reset_index(drop=True)\n",
    "dataset.index = pd.read_csv('data/dacca/covart.csv', index_col=0).reset_index(drop=True).squeeze()\n",
    "dataset = dataset.reindex(onp.array([1891 + i*(1/240) for i in range(12037)])).interpolate()\n",
    "covars = np.array(dataset.values)#[20:]\n",
    "#gamma, m, rho, epsilon, omega, c, beta_trend, sigma, tau, bs, k, delta = 8.0, 9.238, 7.1, 0.7, onp.exp(-4.5), 0.0051, (-6.8*10**(-3)), 639.6, 0.23, np.array([6.5,11.4,2.1,9.0,8.6,9.5]), 3, 0.02\n",
    "#gamma, m, rho, epsilon, omega, c, beta_trend, sigma, tau, bs, k, delta = 17.3, 0.057, 0, 9.8, onp.exp(-4.8), 0.999999, (-5.0*10**(-3)), 3.2, 0.25, np.array([1.2,6.2,-3.4,3.9,3.2,4.3]), 3, 0.02\n",
    "\n",
    "\n",
    "gamma = 20.8\n",
    "epsilon = 19.1\n",
    "rho = 0\n",
    "delta = 0.02\n",
    "m = 0.06\n",
    "c = np.array(1)\n",
    "beta_trend = -0.00498\n",
    "bs = np.array([0.747, 6.38, -3.44, 4.23, 3.33, 4.55])\n",
    "sigma = 3.13 #3.13 # 0.77\n",
    "tau = 0.23 \n",
    "omega = onp.exp(-4.5)\n",
    "omegas = np.log(np.array([0.184, 0.0786, 0.0584, 0.00917, 0.000208, 0.0124]))\n",
    "\n",
    "\n",
    "theta = transform_thetas(gamma, m, rho, epsilon, omega, c, beta_trend, sigma, tau, bs, omegas)"
   ]
  },
  {
   "cell_type": "code",
   "execution_count": 4,
   "id": "448d369b-04b1-4d0c-b088-3643bf6e7aef",
   "metadata": {},
   "outputs": [
    {
     "data": {
      "text/plain": [
       "Array(3748.2502, dtype=float32)"
      ]
     },
     "execution_count": 4,
     "metadata": {},
     "output_type": "execute_result"
    }
   ],
   "source": [
    "pfilter(theta, ys, 10000, covars, thresh=-1)"
   ]
  },
  {
   "cell_type": "code",
   "execution_count": 5,
   "id": "f46ff353-a40e-41e2-b833-c0fac727f67d",
   "metadata": {},
   "outputs": [
    {
     "data": {
      "text/plain": [
       "Array(3748.7583, dtype=float32)"
      ]
     },
     "execution_count": 5,
     "metadata": {},
     "output_type": "execute_result"
    }
   ],
   "source": [
    "mop(theta, ys, 10000, covars, alpha=0.5)"
   ]
  },
  {
   "cell_type": "code",
   "execution_count": 6,
   "id": "be565454-f144-4db1-beca-571f2938596f",
   "metadata": {},
   "outputs": [
    {
     "name": "stdout",
     "output_type": "stream",
     "text": [
      "4309.2744\n"
     ]
    },
    {
     "data": {
      "text/plain": [
       "(Array(25.470907, dtype=float32),\n",
       " Array(0.06987456, dtype=float32),\n",
       " Array(0., dtype=float32),\n",
       " Array(13.268806, dtype=float32),\n",
       " Array(0.01020048, dtype=float32),\n",
       " Array(1., dtype=float32),\n",
       " Array(-0.00456467, dtype=float32),\n",
       " Array(2.9220684, dtype=float32),\n",
       " Array(0.24351847, dtype=float32),\n",
       " Array([ 0.91186714,  4.7945175 , -3.919889  ,  4.137083  ,  3.1338313 ,\n",
       "         4.8495283 ], dtype=float32),\n",
       " Array([-1.8031788, -2.858297 , -3.1682634, -4.236103 , -7.828042 ,\n",
       "        -4.006463 ], dtype=float32),\n",
       " 3,\n",
       " 0.02)"
      ]
     },
     "execution_count": 6,
     "metadata": {},
     "output_type": "execute_result"
    }
   ],
   "source": [
    "n_trials = 100\n",
    "J = 10000\n",
    "\n",
    "def get_rand_theta():\n",
    "    return transform_thetas(onp.random.uniform(10.00, 40.00),\n",
    "                onp.random.uniform(0.03, 0.60), \n",
    "                         rho, \n",
    "                 onp.random.uniform(0.20, 30.00), \n",
    "                         omega, \n",
    "                         c, \n",
    "                 onp.random.uniform(-1.00, 0.00)*0.01, \n",
    "                 onp.random.uniform(1.00, 5.00), \n",
    "                 onp.random.uniform(0.10, 0.50), \n",
    "                 onp.random.uniform(0,8,size=6)+np.array([-4,0,-4,0,0,0]), \n",
    "                 onp.random.uniform(-10,0,size=6))\n",
    "\n",
    "def get_sds():    \n",
    "    lows = transform_thetas(10.00,0.03, rho, 0.20, omega, c, \n",
    "             -1.00*0.01, 1.00, 0.10, \n",
    "             onp.zeros(6)+onp.array([-4,0,-4,0,0,0]), \n",
    "            -10*onp.ones(6))\n",
    "    highs = transform_thetas(40.00,0.60, rho, 30.00, omega, c, \n",
    "                 0.00, 5.00, 0.50, \n",
    "                 8*onp.ones(6)+onp.array([-4,0,-4,0,0,0]), \n",
    "                onp.zeros(6))\n",
    "    return (highs-lows)/100\n",
    "\n",
    "\n",
    "\n",
    "def get_rand_theta(J=J):\n",
    "    lows = transform_thetas(10.00,0.03, rho, 0.20, omega, c, \n",
    "             -1.00*0.01, 1.00, 0.10, \n",
    "             onp.zeros(6)+onp.array([-4,0,-4,0,0,0]), \n",
    "            -10*onp.ones(6))\n",
    "    highs = transform_thetas(40.00,0.60, rho, 30.00, omega, c, \n",
    "                 0.00, 5.00, 0.50, \n",
    "                 8*onp.ones(6)+onp.array([-4,0,-4,0,0,0]), \n",
    "                onp.zeros(6))\n",
    "    rands = onp.array(onp.repeat(((lows+highs)/2)[None,:], J, axis=0)).T\n",
    "    rands[~onp.isinf(lows)] = onp.random.uniform(lows[~onp.isinf(lows)], \n",
    "                       highs[~onp.isinf(highs)],\n",
    "                       size=(J, len(highs[~onp.isinf(highs)]))).T\n",
    "    return rands.T\n",
    "                       \n",
    "                       \n",
    "\n",
    "\n",
    "sigmas = (np.abs(theta)/600)\n",
    "theta_ests = theta + 60*sigmas*onp.random.normal(size=theta.shape) #6 for close to maxima\n",
    "#theta_ests = get_rand_theta(J).mean(0)\n",
    "\n",
    "'''\n",
    "gd_logliks, gd_ests = train(theta_ests, ys, covars, beta=0.9, eta=5e-4/600,\n",
    "                            verbose=True, itns=20, J=J, thresh=0, method='SGD', scale=False)\n",
    "\n",
    "\n",
    "newt_logliks, newt_ests = train(theta_ests, ys, covars, beta=0.9, eta=1e-2, c=1e-1, max_ls_itn=5, \n",
    "                            verbose=True, itns=20, J=J, Jh=500, thresh=0, method='Newton', scale=True, ls=True)\n",
    "\n",
    "'''\n",
    "print(pfilter(theta_ests, ys, J, covars, thresh=-1))\n",
    "#res = minimize(pfilter, x0=theta_ests, args=(ys, J, covars, 0), method='BFGS', options={'maxiter': 10})\n",
    "get_thetas(theta_ests)\n",
    "\n",
    "# try cross-comparison, fig 2 in pnas, on close to MLE\n",
    "# use if2 settings"
   ]
  },
  {
   "cell_type": "code",
   "execution_count": 10,
   "id": "fb8f7971-d82f-4075-9b15-d1d45c4c4ca1",
   "metadata": {},
   "outputs": [],
   "source": [
    "state = rinit(theta, 1, covars).squeeze()\n",
    "t=0\n",
    "covar = covars[t][None,:]\n",
    "key = jax.random.PRNGKey(0)\n",
    "\n",
    "\n",
    "S, I, Y, deaths, pts, t, count = state[0], state[1], state[2], state[3], state[4:-2], state[-2], state[-1]\n",
    "t = t.astype(int)\n",
    "trends, dpopdts, pops, seass = covar[:,0], covar[:,1], covar[:,2], covar[:,3:]\n",
    "gamma, deltaI, rho, eps, omega, clin, beta_trend, sd_beta, tau, bs, omegas, nrstage, delta = get_thetas(theta)\n",
    "dt = 1/240\n",
    "deaths = 0\n",
    "nrstage = 3\n",
    "clin = 1 # HARDCODED SEIR\n",
    "rho = 0 # HARDCODED INAPPARENT INFECTIONS\n",
    "std = onp.sqrt(dt) #onp.sqrt(onp.sqrt(dt))\n",
    "\n",
    "neps = eps*nrstage\n",
    "rdeaths = np.zeros(nrstage)\n",
    "passages = np.zeros(nrstage+1)\n",
    "\n",
    "trend = trends[t]; dpopdt = dpopdts[t]; pop = pops[t]; seas = seass[t]\n",
    "beta = np.exp(beta_trend*trend + np.dot(bs, seas))\n",
    "omega = np.exp(np.dot(omegas, seas))\n",
    "\n",
    "effI = I/pop\n",
    "births = dpopdt + delta*pop # births\n",
    "passages = passages.at[0].set(gamma*I) #recovery\n",
    "ideaths = delta*I #natural i deaths\n",
    "disease = deltaI*I #disease death\n",
    "ydeaths = delta*Y #natural rs deaths\n",
    "wanings = rho*Y #loss of immunity\n",
    "\n",
    "for j in range(nrstage):\n",
    "    rdeaths = rdeaths.at[j].set(pts[j]*delta) #natural R deaths\n",
    "    passages = passages.at[j+1].set(pts[j]*neps) # passage to the next immunity class\n",
    "    \n",
    "sdeaths = delta*S # natural S deaths\n",
    "for j in range(nrstage):\n",
    "    pts = pts.at[j].add((passages[j] - passages[j+1] - rdeaths[j])*dt)\n",
    "\n",
    "deaths += disease*dt # cumulative deaths due to disease\n"
   ]
  },
  {
   "cell_type": "code",
   "execution_count": 85,
   "id": "7d622a5e-9ccc-42b2-8ea0-c39d72e1abb9",
   "metadata": {},
   "outputs": [],
   "source": [
    "\n",
    "count += np.any(np.hstack([np.array([S, I, Y, deaths]), pts]) < 0)\n",
    "\n",
    "S = np.clip(S, a_min=0); I = np.clip(I, a_min=0); Y = np.clip(Y, a_min=0)\n",
    "pts = np.clip(pts, a_min=0); deaths = np.clip(deaths, a_min=0)\n",
    "\n",
    "t += 1"
   ]
  },
  {
   "cell_type": "code",
   "execution_count": 629,
   "id": "935b776a-89e0-4500-b91f-8b7c62df0d0b",
   "metadata": {
    "tags": []
   },
   "outputs": [
    {
     "name": "stderr",
     "output_type": "stream",
     "text": [
      "/home/kevin/anaconda3/envs/jax/lib/python3.10/site-packages/tensorflow_probability/python/internal/backend/jax/ops.py:339: UserWarning: Explicitly requested dtype <class 'numpy.float64'> requested in array is not available, and will be truncated to dtype float32. To enable more dtypes, set the jax_enable_x64 configuration option or the JAX_ENABLE_X64 shell environment variable. See https://github.com/google/jax#current-gotchas for more.\n",
      "  return np.array(value, dtype=dtype)\n"
     ]
    },
    {
     "data": {
      "text/plain": [
       "Array(-34.91888, dtype=float32)"
      ]
     },
     "execution_count": 629,
     "metadata": {},
     "output_type": "execute_result"
    }
   ],
   "source": [
    "dw = tfd.Normal(loc=0, scale=std, name='dw')\n",
    "infections = tfd.TransformedDistribution(\n",
    "    tfd.TransformedDistribution(\n",
    "        tfd.TransformedDistribution(\n",
    "            tfd.TransformedDistribution(\n",
    "                tfd.TransformedDistribution(dw, tfb.Scale(scale=sd_beta/dt)),\n",
    "                tfb.Shift(beta)),\n",
    "            tfb.Scale(effI)),\n",
    "        tfb.Shift(omega)),\n",
    "    tfb.Scale(S))\n",
    "\n",
    "dS = tfd.TransformedDistribution(\n",
    "        tfd.TransformedDistribution(\n",
    "            tfd.TransformedDistribution(infections, tfb.Scale(-1)),\n",
    "        tfb.Shift(births-sdeaths+passages[nrstage]+wanings)),\n",
    "    tfb.Scale(dt))\n",
    "    \n",
    "dI = tfd.TransformedDistribution(\n",
    "        tfd.TransformedDistribution(\n",
    "            tfd.TransformedDistribution(infections, tfb.Scale(clin)),\n",
    "        tfb.Shift(-disease-ideaths-passages[0])),\n",
    "    tfb.Scale(dt))\n",
    "\n",
    "\n",
    "Sp = tfd.TransformedDistribution(dS, tfb.Shift(S))\n",
    "Ip = tfd.TransformedDistribution(dI, tfb.Shift(I))\n",
    "\n",
    "sim_nextstate = rproc(rinit(theta,1,covars)[0], theta, key, covars)\n",
    "## Log-density of S', I'\n",
    "Sp.log_prob(sim_nextstate[0]) + Ip.log_prob(sim_nextstate[1])"
   ]
  }
 ],
 "metadata": {
  "kernelspec": {
   "display_name": "jax",
   "language": "python",
   "name": "jax"
  },
  "language_info": {
   "codemirror_mode": {
    "name": "ipython",
    "version": 3
   },
   "file_extension": ".py",
   "mimetype": "text/x-python",
   "name": "python",
   "nbconvert_exporter": "python",
   "pygments_lexer": "ipython3",
   "version": "3.10.10"
  }
 },
 "nbformat": 4,
 "nbformat_minor": 5
}
